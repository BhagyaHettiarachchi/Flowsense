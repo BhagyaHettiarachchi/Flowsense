{
 "cells": [
  {
   "cell_type": "code",
   "execution_count": null,
   "id": "64b3348b",
   "metadata": {
    "vscode": {
     "languageId": "plaintext"
    }
   },
   "outputs": [],
   "source": [
    "# 1. Import libraries\n",
    "import pandas as pd\n",
    " \n",
    "# 2. Load dataset\n",
    "df = pd.read_csv('traffic_volume_dataset.csv', low_memory=False)\n",
    " \n",
    "# 3. Convert startDate to datetime\n",
    "df['startDate'] = pd.to_datetime(df['startDate'], dayfirst=True, errors='coerce')\n",
    " \n",
    "# 4. Drop rows with invalid or missing dates\n",
    "df = df.dropna(subset=['startDate'])\n",
    " \n",
    "# 5. Filter for data from 2023 onwards\n",
    "df = df[df['startDate'].dt.year >= 2023]\n",
    " \n",
    "# 6. Drop irrelevant or high-cardinality columns\n",
    "df = df.drop(['regionName', 'siteDescription', 'siteReference'], axis=1)\n",
    " \n",
    "# 7. Convert trafficCount to numeric and drop missing\n",
    "df['trafficCount'] = pd.to_numeric(df['trafficCount'], errors='coerce')\n",
    "df = df.dropna(subset=['trafficCount'])\n",
    " \n",
    "# 8. Drop rows with missing key features\n",
    "df = df.dropna(subset=['laneNumber', 'flowDirection', 'classWeight'])\n",
    " \n",
    "# 9. Encode classWeight (low cardinality)\n",
    "df = pd.get_dummies(df, columns=['classWeight'], drop_first=True)\n",
    " \n",
    "# 10. Extract date features\n",
    "df['day'] = df['startDate'].dt.day\n",
    "df['month'] = df['startDate'].dt.month\n",
    "df['year'] = df['startDate'].dt.year\n",
    " \n",
    "# 11. Drop original startDate column\n",
    "df = df.drop(['startDate'], axis=1)\n",
    " \n",
    "# 12. Downcast numeric columns to reduce memory usage\n",
    "for col in df.select_dtypes(include=['int64', 'float64']).columns:\n",
    "    df[col] = pd.to_numeric(df[col], downcast='float')\n",
    " \n",
    "# 13. Optional: Save cleaned dataset\n",
    "df.to_csv('traffic_volume_cleaned_2023.csv', index=False)\n",
    " \n",
    "# 14. Preview cleaned data\n",
    "print(df.info())\n",
    "print(df.head())"
   ]
  }
 ],
 "metadata": {
  "language_info": {
   "name": "python"
  }
 },
 "nbformat": 4,
 "nbformat_minor": 5
}
